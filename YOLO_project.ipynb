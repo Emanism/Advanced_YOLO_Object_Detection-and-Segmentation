{
 "cells": [
  {
   "cell_type": "markdown",
   "metadata": {
    "id": "tWVTIjvLqdA5"
   },
   "source": [
    "# **Import the Required Library**"
   ]
  },
  {
   "cell_type": "code",
   "execution_count": null,
   "metadata": {},
   "outputs": [],
   "source": [
    "from IPython.display import Image"
   ]
  },
  {
   "cell_type": "markdown",
   "metadata": {
    "id": "JaiVHYB3qlM_"
   },
   "source": [
    "# **Install Ultralytics Library**"
   ]
  },
  {
   "cell_type": "code",
   "execution_count": null,
   "metadata": {},
   "outputs": [],
   "source": [
    "!pip install ultralytics==8.0.0"
   ]
  },
  {
   "cell_type": "markdown",
   "metadata": {
    "id": "fQYtGv-XIDzM"
   },
   "source": [
    "# **Check Whether the GPU is Available or Not**"
   ]
  },
  {
   "cell_type": "code",
   "execution_count": null,
   "metadata": {},
   "outputs": [],
   "source": [
    "import torch"
   ]
  },
  {
   "cell_type": "code",
   "execution_count": null,
   "metadata": {},
   "outputs": [],
   "source": [
    "torch.cuda.is_available()"
   ]
  },
  {
   "cell_type": "code",
   "execution_count": null,
   "metadata": {},
   "outputs": [],
   "source": [
    "torch.__version__"
   ]
  },
  {
   "cell_type": "markdown",
   "metadata": {
    "id": "BhmeNs6VIc8a"
   },
   "source": [
    "# **Object Detection**"
   ]
  },
  {
   "cell_type": "code",
   "execution_count": null,
   "metadata": {},
   "outputs": [],
   "source": [
    "!yolo task=detect mode=predict model=yolov8s.pt source='/content/Image.jpg'"
   ]
  },
  {
   "cell_type": "markdown",
   "metadata": {
    "id": "ViKWeSLOIqPO"
   },
   "source": [
    "# **Display the Output Image**"
   ]
  },
  {
   "cell_type": "code",
   "execution_count": null,
   "metadata": {},
   "outputs": [],
   "source": [
    "from PIL import Image\n",
    "from IPython.display import display\n",
    "\n",
    "# Replace 'your_image_path.jpg' with the path to your image file\n",
    "image = Image.open('/content/runs/detect/predict6/Image.jpg')\n",
    "display(image)\n"
   ]
  },
  {
   "cell_type": "markdown",
   "metadata": {
    "id": "MdK2EM0wJDYY"
   },
   "source": [
    "# **To save the Bounding Box Information set save_txt=True**"
   ]
  },
  {
   "cell_type": "code",
   "execution_count": null,
   "metadata": {},
   "outputs": [],
   "source": [
    "!yolo task=detect mode=predict model=yolov8s.pt source='/content/Image.jpg' save_txt=True"
   ]
  },
  {
   "cell_type": "markdown",
   "metadata": {
    "id": "vToUBsMTlIHE"
   },
   "source": [
    "# **Display the Output Image**"
   ]
  },
  {
   "cell_type": "code",
   "execution_count": null,
   "metadata": {},
   "outputs": [],
   "source": [
    "from PIL import Image\n",
    "from IPython.display import display\n",
    "image = Image.open('/content/runs/detect/predict6/Image.jpg')\n",
    "display(image)"
   ]
  },
  {
   "cell_type": "markdown",
   "metadata": {
    "id": "7fx-VrwkluPt"
   },
   "source": [
    "# **To save the \"Crop Object\" set save_crop=True**"
   ]
  },
  {
   "cell_type": "code",
   "execution_count": null,
   "metadata": {},
   "outputs": [],
   "source": [
    "!yolo task=detect mode=predict model=yolov8s.pt source='/content/Image.jpg' save_crop=True"
   ]
  },
  {
   "cell_type": "markdown",
   "metadata": {
    "id": "TZ6ZolAhl9nv"
   },
   "source": [
    "# **Display the Output Image**"
   ]
  },
  {
   "cell_type": "code",
   "execution_count": null,
   "metadata": {},
   "outputs": [],
   "source": [
    "from PIL import Image\n",
    "from IPython.display import display\n",
    "image = Image.open('/content/runs/detect/predict7/crops/train/Image.jpg')\n",
    "display(image)\n"
   ]
  },
  {
   "cell_type": "markdown",
   "metadata": {
    "id": "3TP6BsPomung"
   },
   "source": [
    "# **To remove the confidence values and labels, we will use hide_labels and hide_conf Flags**"
   ]
  },
  {
   "cell_type": "code",
   "execution_count": null,
   "metadata": {},
   "outputs": [],
   "source": [
    "!yolo task=detect mode=predict model=yolov8s.pt source='/content/Image.jpg' hide_labels=True hide_conf=True"
   ]
  },
  {
   "cell_type": "code",
   "execution_count": null,
   "metadata": {},
   "outputs": [],
   "source": [
    "from PIL import Image\n",
    "from IPython.display import display\n",
    "image = Image.open('/content/runs/detect/predict8/Image.jpg')\n",
    "display(image)"
   ]
  },
  {
   "cell_type": "markdown",
   "metadata": {
    "id": "ffvmfH6Pm-jx"
   },
   "source": [
    "# **Run Object Detection on Videos**"
   ]
  },
  {
   "cell_type": "code",
   "execution_count": null,
   "metadata": {},
   "outputs": [],
   "source": [
    "!yolo task=detect mode=predict model=yolov8s.pt source='/content/Car_road.mp4'"
   ]
  },
  {
   "cell_type": "markdown",
   "metadata": {
    "id": "qo39h7PcnKjv"
   },
   "source": [
    "# **Display the Demo Video**"
   ]
  },
  {
   "cell_type": "code",
   "execution_count": null,
   "metadata": {},
   "outputs": [],
   "source": [
    "!rm \"/content/result_compressed.mp4\""
   ]
  },
  {
   "cell_type": "code",
   "execution_count": null,
   "metadata": {},
   "outputs": [],
   "source": [
    "from IPython.display import HTML\n",
    "from base64 import b64encode\n",
    "import os\n",
    "\n",
    "# Input video path\n",
    "save_path = '/content/runs/detect/predict10/Car_road.mp4'\n",
    "\n",
    "# Compressed video path\n",
    "compressed_path = \"/content/result_compressed.mp4\"\n",
    "\n",
    "os.system(f\"ffmpeg -i {save_path} -vcodec libx264 {compressed_path}\")\n",
    "\n",
    "# Show video\n",
    "mp4 = open(compressed_path,'rb').read()\n",
    "data_url = \"data:video/mp4;base64,\" + b64encode(mp4).decode()\n",
    "HTML(\"\"\"\n",
    "<video width=400 controls>\n",
    "      <source src=\"%s\" type=\"video/mp4\">\n",
    "</video>\n",
    "\"\"\" % data_url)"
   ]
  },
  {
   "cell_type": "markdown",
   "metadata": {
    "id": "XGBAA-pBn0Nn"
   },
   "source": [
    "# **Image Segmentation**"
   ]
  },
  {
   "cell_type": "code",
   "execution_count": null,
   "metadata": {},
   "outputs": [],
   "source": [
    "!yolo task=segment mode=predict model=yolov8s-seg.pt source='/content/Image.jpg'"
   ]
  },
  {
   "cell_type": "code",
   "execution_count": null,
   "metadata": {},
   "outputs": [],
   "source": [
    "from PIL import Image\n",
    "from IPython.display import display\n",
    "image = Image.open('/content/runs/segment/predict/Image.jpg')\n",
    "display(image)"
   ]
  },
  {
   "cell_type": "markdown",
   "metadata": {
    "id": "GCz_Hs9Iocpe"
   },
   "source": [
    "# **Hide Labels and Confidence Value**"
   ]
  },
  {
   "cell_type": "code",
   "execution_count": null,
   "metadata": {},
   "outputs": [],
   "source": [
    "!yolo task=segment mode=predict model=yolov8s-seg.pt source='/content/Image.jpg'  hide_labels=True hide_conf=True"
   ]
  },
  {
   "cell_type": "markdown",
   "metadata": {
    "id": "xqpilzShopxu"
   },
   "source": [
    "from PIL import Image\n",
    "from IPython.display import display\n",
    "image = Image.open('/content/runs/segment/predict/Image.jpg')\n",
    "display(image)"
   ]
  },
  {
   "cell_type": "markdown",
   "metadata": {
    "id": "_TsDRjapo9dE"
   },
   "source": [
    "# **Run Segmentation on Video**"
   ]
  },
  {
   "cell_type": "code",
   "execution_count": null,
   "metadata": {},
   "outputs": [],
   "source": [
    "!yolo task=segment mode=predict model=yolov8s-seg.pt source='/content/Car_road.mp4'"
   ]
  },
  {
   "cell_type": "markdown",
   "metadata": {
    "id": "QFaODQQnpOSH"
   },
   "source": [
    "# **Display the Output Video for Segmentation**"
   ]
  },
  {
   "cell_type": "code",
   "execution_count": null,
   "metadata": {},
   "outputs": [],
   "source": [
    "!rm  \"/content/result_compressed.mp4\""
   ]
  },
  {
   "cell_type": "code",
   "execution_count": null,
   "metadata": {},
   "outputs": [],
   "source": [
    "from IPython.display import HTML\n",
    "from base64 import b64encode\n",
    "import os\n",
    "# Input video path\n",
    "save_path = '/content/runs/segment/predict3/Car_road.mp4'\n",
    "\n",
    "# Compressed video path\n",
    "compressed_path = \"/content/result_compressed.mp4\"\n",
    "\n",
    "os.system(f\"ffmpeg -i {save_path} -vcodec libx264 {compressed_path}\")\n",
    "\n",
    "# Show video\n",
    "mp4 = open(compressed_path,'rb').read()\n",
    "data_url = \"data:video/mp4;base64,\" + b64encode(mp4).decode()\n",
    "HTML(\"\"\"\n",
    "<video width=400 controls>\n",
    "      <source src=\"%s\" type=\"video/mp4\">\n",
    "</video>\n",
    "\"\"\" % data_url)"
   ]
  },
  {
   "cell_type": "markdown",
   "metadata": {
    "id": "wPiz-Ng5pXhJ"
   },
   "source": [
    "# **Export Model in ONNX Format**"
   ]
  },
  {
   "cell_type": "markdown",
   "metadata": {
    "id": "yzs--3RjpcIo"
   },
   "source": [
    "# **Detection**"
   ]
  },
  {
   "cell_type": "code",
   "execution_count": null,
   "metadata": {},
   "outputs": [],
   "source": [
    "!yolo task=detect mode=export model=yolov8s.pt format=onnx"
   ]
  },
  {
   "cell_type": "markdown",
   "metadata": {
    "id": "wW9AGw95plfj"
   },
   "source": [
    "# **Segmentation**"
   ]
  },
  {
   "cell_type": "code",
   "execution_count": null,
   "metadata": {},
   "outputs": [],
   "source": [
    "!yolo task=segment mode=export model=yolov8s-seg.pt format=onnx"
   ]
  },
  {
   "cell_type": "markdown",
   "metadata": {
    "id": "R0_Bsq63pvqw"
   },
   "source": [
    "# **To Do All this in Python Instead of Command Line**"
   ]
  },
  {
   "cell_type": "markdown",
   "metadata": {
    "id": "6D3Q3Zu1p0qT"
   },
   "source": [
    "# **For Image**"
   ]
  },
  {
   "cell_type": "code",
   "execution_count": null,
   "metadata": {},
   "outputs": [],
   "source": [
    "from ultralytics import YOLO"
   ]
  },
  {
   "cell_type": "code",
   "execution_count": null,
   "metadata": {},
   "outputs": [],
   "source": [
    "#Initialize YOLO with the model name\n",
    "model = YOLO(\"yolov8m.pt\")\n",
    "#Predict Method Takes all the parameters of the Command Line Interface\n",
    "model.predict(source='/content/Image.jpg',  save=True, conf=0.5,save_txt=True)"
   ]
  },
  {
   "cell_type": "code",
   "execution_count": null,
   "metadata": {},
   "outputs": [],
   "source": [
    "from PIL import Image\n",
    "from IPython.display import display\n",
    "image = Image.open('/content/runs/detect/predict11/Image.jpg')\n",
    "display(image)\n"
   ]
  },
  {
   "cell_type": "code",
   "execution_count": null,
   "metadata": {},
   "outputs": [],
   "source": [
    "#Initialize YOLO with the model name\n",
    "model = YOLO(\"yolov8m.pt\")\n",
    "#Predict Method Takes all the parameters of the Command Line Interface\n",
    "model.predict(source='/content/Car_road.mp4',  save=False, conf=0.5, save_txt = False)"
   ]
  },
  {
   "cell_type": "markdown",
   "metadata": {
    "id": "tJ5cH-fWp9uv"
   },
   "source": [
    "# **Display the Output Image**"
   ]
  },
  {
   "cell_type": "code",
   "execution_count": null,
   "metadata": {},
   "outputs": [],
   "source": [
    "!rm \"/content/result_compressed.mp4\""
   ]
  },
  {
   "cell_type": "code",
   "execution_count": null,
   "metadata": {},
   "outputs": [],
   "source": [
    "from IPython.display import HTML\n",
    "from base64 import b64encode\n",
    "import os\n",
    "\n",
    "# Input video path\n",
    "save_path = '/content/runs/detect/Car_road.mp4'\n",
    "\n",
    "# Compressed video path\n",
    "compressed_path = \"/content/result_compressed.mp4\"\n",
    "\n",
    "os.system(f\"ffmpeg -i {save_path} -vcodec libx264 {compressed_path}\")\n",
    "\n",
    "# Show video\n",
    "mp4 = open(compressed_path,'rb').read()\n",
    "data_url = \"data:video/mp4;base64,\" + b64encode(mp4).decode()\n",
    "HTML(\"\"\"\n",
    "<video width=400 controls>\n",
    "      <source src=\"%s\" type=\"video/mp4\">\n",
    "</video>\n",
    "\"\"\" % data_url)"
   ]
  },
  {
   "cell_type": "markdown",
   "metadata": {
    "id": "aRvpn7y5qHbg"
   },
   "source": [
    "# **For Video**"
   ]
  },
  {
   "cell_type": "code",
   "execution_count": null,
   "metadata": {},
   "outputs": [],
   "source": [
    "#Initialize YOLO with the model name\n",
    "model = YOLO(\"yolov8m.pt\")\n",
    "#Export the Model in the onnx format\n",
    "model.export(format=\"onnx\")"
   ]
  }
 ],
 "metadata": {
  "accelerator": "GPU",
  "colab": {
   "gpuType": "T4",
   "provenance": []
  },
  "kernelspec": {
   "display_name": "Python 3",
   "name": "python3"
  },
  "language_info": {
   "name": "python"
  }
 },
 "nbformat": 4,
 "nbformat_minor": 0
}
